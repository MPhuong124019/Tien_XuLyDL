{
 "cells": [
  {
   "cell_type": "code",
   "execution_count": 1,
   "id": "c40d9835",
   "metadata": {},
   "outputs": [
    {
     "data": {
      "text/html": [
       "<div>\n",
       "<style scoped>\n",
       "    .dataframe tbody tr th:only-of-type {\n",
       "        vertical-align: middle;\n",
       "    }\n",
       "\n",
       "    .dataframe tbody tr th {\n",
       "        vertical-align: top;\n",
       "    }\n",
       "\n",
       "    .dataframe thead th {\n",
       "        text-align: right;\n",
       "    }\n",
       "</style>\n",
       "<table border=\"1\" class=\"dataframe\">\n",
       "  <thead>\n",
       "    <tr style=\"text-align: right;\">\n",
       "      <th></th>\n",
       "      <th>id</th>\n",
       "      <th>gender</th>\n",
       "      <th>age</th>\n",
       "      <th>hypertension</th>\n",
       "      <th>heart_disease</th>\n",
       "      <th>ever_married</th>\n",
       "      <th>work_type</th>\n",
       "      <th>Residence_type</th>\n",
       "      <th>avg_glucose_level</th>\n",
       "      <th>bmi</th>\n",
       "      <th>smoking_status</th>\n",
       "      <th>stroke</th>\n",
       "    </tr>\n",
       "  </thead>\n",
       "  <tbody>\n",
       "    <tr>\n",
       "      <th>0</th>\n",
       "      <td>9046</td>\n",
       "      <td>Male</td>\n",
       "      <td>67.0</td>\n",
       "      <td>0</td>\n",
       "      <td>1</td>\n",
       "      <td>Yes</td>\n",
       "      <td>Private</td>\n",
       "      <td>Urban</td>\n",
       "      <td>228.69</td>\n",
       "      <td>36.6</td>\n",
       "      <td>formerly smoked</td>\n",
       "      <td>1</td>\n",
       "    </tr>\n",
       "    <tr>\n",
       "      <th>1</th>\n",
       "      <td>51676</td>\n",
       "      <td>Female</td>\n",
       "      <td>61.0</td>\n",
       "      <td>0</td>\n",
       "      <td>0</td>\n",
       "      <td>Yes</td>\n",
       "      <td>Self-employed</td>\n",
       "      <td>Rural</td>\n",
       "      <td>202.21</td>\n",
       "      <td>NaN</td>\n",
       "      <td>never smoked</td>\n",
       "      <td>1</td>\n",
       "    </tr>\n",
       "    <tr>\n",
       "      <th>2</th>\n",
       "      <td>31112</td>\n",
       "      <td>Male</td>\n",
       "      <td>80.0</td>\n",
       "      <td>0</td>\n",
       "      <td>1</td>\n",
       "      <td>Yes</td>\n",
       "      <td>Private</td>\n",
       "      <td>Rural</td>\n",
       "      <td>105.92</td>\n",
       "      <td>32.5</td>\n",
       "      <td>never smoked</td>\n",
       "      <td>1</td>\n",
       "    </tr>\n",
       "    <tr>\n",
       "      <th>3</th>\n",
       "      <td>60182</td>\n",
       "      <td>Female</td>\n",
       "      <td>49.0</td>\n",
       "      <td>0</td>\n",
       "      <td>0</td>\n",
       "      <td>Yes</td>\n",
       "      <td>Private</td>\n",
       "      <td>Urban</td>\n",
       "      <td>171.23</td>\n",
       "      <td>34.4</td>\n",
       "      <td>smokes</td>\n",
       "      <td>1</td>\n",
       "    </tr>\n",
       "    <tr>\n",
       "      <th>4</th>\n",
       "      <td>1665</td>\n",
       "      <td>Female</td>\n",
       "      <td>79.0</td>\n",
       "      <td>1</td>\n",
       "      <td>0</td>\n",
       "      <td>Yes</td>\n",
       "      <td>Self-employed</td>\n",
       "      <td>Rural</td>\n",
       "      <td>174.12</td>\n",
       "      <td>24.0</td>\n",
       "      <td>never smoked</td>\n",
       "      <td>1</td>\n",
       "    </tr>\n",
       "  </tbody>\n",
       "</table>\n",
       "</div>"
      ],
      "text/plain": [
       "      id  gender   age  hypertension  heart_disease ever_married  \\\n",
       "0   9046    Male  67.0             0              1          Yes   \n",
       "1  51676  Female  61.0             0              0          Yes   \n",
       "2  31112    Male  80.0             0              1          Yes   \n",
       "3  60182  Female  49.0             0              0          Yes   \n",
       "4   1665  Female  79.0             1              0          Yes   \n",
       "\n",
       "       work_type Residence_type  avg_glucose_level   bmi   smoking_status  \\\n",
       "0        Private          Urban             228.69  36.6  formerly smoked   \n",
       "1  Self-employed          Rural             202.21   NaN     never smoked   \n",
       "2        Private          Rural             105.92  32.5     never smoked   \n",
       "3        Private          Urban             171.23  34.4           smokes   \n",
       "4  Self-employed          Rural             174.12  24.0     never smoked   \n",
       "\n",
       "   stroke  \n",
       "0       1  \n",
       "1       1  \n",
       "2       1  \n",
       "3       1  \n",
       "4       1  "
      ]
     },
     "execution_count": 1,
     "metadata": {},
     "output_type": "execute_result"
    }
   ],
   "source": [
    "import numpy as np \n",
    "import pandas as pd\n",
    "import matplotlib.pyplot as plt\n",
    "import seaborn as sns\n",
    "from sklearn.impute import KNNImputer\n",
    "from scipy import stats\n",
    "import warnings\n",
    "warnings.filterwarnings('ignore') \n",
    "\n",
    "data = pd.read_csv(\"/Users/maiphuong/Library/CloudStorage/OneDrive-ThuyloiUniversity/Learn/Python/Tien_XLDL/BTL_KTM/healthcare-dataset-stroke-data.csv\")\n",
    "data.head()"
   ]
  },
  {
   "cell_type": "markdown",
   "id": "3374d71f",
   "metadata": {},
   "source": [
    "# 1. Tiền xử lý"
   ]
  },
  {
   "cell_type": "markdown",
   "id": "33e4b311",
   "metadata": {},
   "source": [
    "## 1.1. Xử lý mising data"
   ]
  },
  {
   "cell_type": "code",
   "execution_count": 2,
   "id": "a41aa7ca",
   "metadata": {},
   "outputs": [
    {
     "data": {
      "text/plain": [
       "id                     0\n",
       "gender                 0\n",
       "age                    0\n",
       "hypertension           0\n",
       "heart_disease          0\n",
       "ever_married           0\n",
       "work_type              0\n",
       "Residence_type         0\n",
       "avg_glucose_level      0\n",
       "bmi                  201\n",
       "smoking_status         0\n",
       "stroke                 0\n",
       "dtype: int64"
      ]
     },
     "execution_count": 2,
     "metadata": {},
     "output_type": "execute_result"
    }
   ],
   "source": [
    "data.isnull().sum()"
   ]
  },
  {
   "cell_type": "code",
   "execution_count": 3,
   "id": "131bf059-0935-41cf-ab63-30f0b1a80903",
   "metadata": {},
   "outputs": [
    {
     "data": {
      "text/html": [
       "<div>\n",
       "<style scoped>\n",
       "    .dataframe tbody tr th:only-of-type {\n",
       "        vertical-align: middle;\n",
       "    }\n",
       "\n",
       "    .dataframe tbody tr th {\n",
       "        vertical-align: top;\n",
       "    }\n",
       "\n",
       "    .dataframe thead th {\n",
       "        text-align: right;\n",
       "    }\n",
       "</style>\n",
       "<table border=\"1\" class=\"dataframe\">\n",
       "  <thead>\n",
       "    <tr style=\"text-align: right;\">\n",
       "      <th></th>\n",
       "      <th>id</th>\n",
       "      <th>age</th>\n",
       "      <th>hypertension</th>\n",
       "      <th>heart_disease</th>\n",
       "      <th>avg_glucose_level</th>\n",
       "      <th>bmi</th>\n",
       "      <th>stroke</th>\n",
       "    </tr>\n",
       "  </thead>\n",
       "  <tbody>\n",
       "    <tr>\n",
       "      <th>0</th>\n",
       "      <td>9046.0</td>\n",
       "      <td>67.0</td>\n",
       "      <td>0.0</td>\n",
       "      <td>1.0</td>\n",
       "      <td>228.69</td>\n",
       "      <td>36.60</td>\n",
       "      <td>1.0</td>\n",
       "    </tr>\n",
       "    <tr>\n",
       "      <th>1</th>\n",
       "      <td>51676.0</td>\n",
       "      <td>61.0</td>\n",
       "      <td>0.0</td>\n",
       "      <td>0.0</td>\n",
       "      <td>202.21</td>\n",
       "      <td>28.08</td>\n",
       "      <td>1.0</td>\n",
       "    </tr>\n",
       "    <tr>\n",
       "      <th>2</th>\n",
       "      <td>31112.0</td>\n",
       "      <td>80.0</td>\n",
       "      <td>0.0</td>\n",
       "      <td>1.0</td>\n",
       "      <td>105.92</td>\n",
       "      <td>32.50</td>\n",
       "      <td>1.0</td>\n",
       "    </tr>\n",
       "    <tr>\n",
       "      <th>3</th>\n",
       "      <td>60182.0</td>\n",
       "      <td>49.0</td>\n",
       "      <td>0.0</td>\n",
       "      <td>0.0</td>\n",
       "      <td>171.23</td>\n",
       "      <td>34.40</td>\n",
       "      <td>1.0</td>\n",
       "    </tr>\n",
       "    <tr>\n",
       "      <th>4</th>\n",
       "      <td>1665.0</td>\n",
       "      <td>79.0</td>\n",
       "      <td>1.0</td>\n",
       "      <td>0.0</td>\n",
       "      <td>174.12</td>\n",
       "      <td>24.00</td>\n",
       "      <td>1.0</td>\n",
       "    </tr>\n",
       "  </tbody>\n",
       "</table>\n",
       "</div>"
      ],
      "text/plain": [
       "        id   age  hypertension  heart_disease  avg_glucose_level    bmi  \\\n",
       "0   9046.0  67.0           0.0            1.0             228.69  36.60   \n",
       "1  51676.0  61.0           0.0            0.0             202.21  28.08   \n",
       "2  31112.0  80.0           0.0            1.0             105.92  32.50   \n",
       "3  60182.0  49.0           0.0            0.0             171.23  34.40   \n",
       "4   1665.0  79.0           1.0            0.0             174.12  24.00   \n",
       "\n",
       "   stroke  \n",
       "0     1.0  \n",
       "1     1.0  \n",
       "2     1.0  \n",
       "3     1.0  \n",
       "4     1.0  "
      ]
     },
     "execution_count": 3,
     "metadata": {},
     "output_type": "execute_result"
    }
   ],
   "source": [
    "#Sử dụng thuật toán KNN để điền dữ liệu mising\n",
    "numeric_columns = data.select_dtypes(include = [np.number, 'float']).columns.to_list()\n",
    "selected_data = data[numeric_columns]\n",
    "\n",
    "knn = KNNImputer(n_neighbors = 5)\n",
    "filled_data = knn.fit_transform(selected_data)\n",
    "filled_df = pd.DataFrame(filled_data, columns = numeric_columns)\n",
    "\n",
    "filled_df.head()"
   ]
  },
  {
   "cell_type": "code",
   "execution_count": 6,
   "id": "0a905baf",
   "metadata": {},
   "outputs": [
    {
     "data": {
      "text/html": [
       "<div>\n",
       "<style scoped>\n",
       "    .dataframe tbody tr th:only-of-type {\n",
       "        vertical-align: middle;\n",
       "    }\n",
       "\n",
       "    .dataframe tbody tr th {\n",
       "        vertical-align: top;\n",
       "    }\n",
       "\n",
       "    .dataframe thead th {\n",
       "        text-align: right;\n",
       "    }\n",
       "</style>\n",
       "<table border=\"1\" class=\"dataframe\">\n",
       "  <thead>\n",
       "    <tr style=\"text-align: right;\">\n",
       "      <th></th>\n",
       "      <th>id</th>\n",
       "      <th>age</th>\n",
       "      <th>hypertension</th>\n",
       "      <th>heart_disease</th>\n",
       "      <th>avg_glucose_level</th>\n",
       "      <th>bmi</th>\n",
       "      <th>stroke</th>\n",
       "    </tr>\n",
       "  </thead>\n",
       "  <tbody>\n",
       "    <tr>\n",
       "      <th>0</th>\n",
       "      <td>9046.0</td>\n",
       "      <td>67.0</td>\n",
       "      <td>0.0</td>\n",
       "      <td>1.0</td>\n",
       "      <td>228.69</td>\n",
       "      <td>36.60</td>\n",
       "      <td>1.0</td>\n",
       "    </tr>\n",
       "    <tr>\n",
       "      <th>1</th>\n",
       "      <td>51676.0</td>\n",
       "      <td>61.0</td>\n",
       "      <td>0.0</td>\n",
       "      <td>0.0</td>\n",
       "      <td>202.21</td>\n",
       "      <td>28.08</td>\n",
       "      <td>1.0</td>\n",
       "    </tr>\n",
       "    <tr>\n",
       "      <th>2</th>\n",
       "      <td>31112.0</td>\n",
       "      <td>80.0</td>\n",
       "      <td>0.0</td>\n",
       "      <td>1.0</td>\n",
       "      <td>105.92</td>\n",
       "      <td>32.50</td>\n",
       "      <td>1.0</td>\n",
       "    </tr>\n",
       "    <tr>\n",
       "      <th>3</th>\n",
       "      <td>60182.0</td>\n",
       "      <td>49.0</td>\n",
       "      <td>0.0</td>\n",
       "      <td>0.0</td>\n",
       "      <td>171.23</td>\n",
       "      <td>34.40</td>\n",
       "      <td>1.0</td>\n",
       "    </tr>\n",
       "    <tr>\n",
       "      <th>4</th>\n",
       "      <td>1665.0</td>\n",
       "      <td>79.0</td>\n",
       "      <td>1.0</td>\n",
       "      <td>0.0</td>\n",
       "      <td>174.12</td>\n",
       "      <td>24.00</td>\n",
       "      <td>1.0</td>\n",
       "    </tr>\n",
       "  </tbody>\n",
       "</table>\n",
       "</div>"
      ],
      "text/plain": [
       "        id   age  hypertension  heart_disease  avg_glucose_level    bmi  \\\n",
       "0   9046.0  67.0           0.0            1.0             228.69  36.60   \n",
       "1  51676.0  61.0           0.0            0.0             202.21  28.08   \n",
       "2  31112.0  80.0           0.0            1.0             105.92  32.50   \n",
       "3  60182.0  49.0           0.0            0.0             171.23  34.40   \n",
       "4   1665.0  79.0           1.0            0.0             174.12  24.00   \n",
       "\n",
       "   stroke  \n",
       "0     1.0  \n",
       "1     1.0  \n",
       "2     1.0  \n",
       "3     1.0  \n",
       "4     1.0  "
      ]
     },
     "execution_count": 6,
     "metadata": {},
     "output_type": "execute_result"
    }
   ],
   "source": [
    "#Sử dụng thuật toán KNN để điền dữ liệu mising\n",
    "numeric_columns = data.select_dtypes(include = [np.number, 'float']).columns.to_list()\n",
    "selected_data = data[numeric_columns]\n",
    "\n",
    "knn = KNNImputer(n_neighbors = 5)\n",
    "filled_data = knn.fit_transform(selected_data)\n",
    "filled_df = pd.DataFrame(filled_data, columns = numeric_columns)\n",
    "\n",
    "filled_df.head()\n"
   ]
  },
  {
   "cell_type": "code",
   "execution_count": 7,
   "id": "1613cf04",
   "metadata": {},
   "outputs": [
    {
     "data": {
      "text/plain": [
       "id                   0\n",
       "age                  0\n",
       "hypertension         0\n",
       "heart_disease        0\n",
       "avg_glucose_level    0\n",
       "bmi                  0\n",
       "stroke               0\n",
       "dtype: int64"
      ]
     },
     "execution_count": 7,
     "metadata": {},
     "output_type": "execute_result"
    }
   ],
   "source": [
    "filled_df.isnull().sum()"
   ]
  },
  {
   "cell_type": "code",
   "execution_count": 8,
   "id": "7aa0c491",
   "metadata": {},
   "outputs": [
    {
     "data": {
      "text/html": [
       "<div>\n",
       "<style scoped>\n",
       "    .dataframe tbody tr th:only-of-type {\n",
       "        vertical-align: middle;\n",
       "    }\n",
       "\n",
       "    .dataframe tbody tr th {\n",
       "        vertical-align: top;\n",
       "    }\n",
       "\n",
       "    .dataframe thead th {\n",
       "        text-align: right;\n",
       "    }\n",
       "</style>\n",
       "<table border=\"1\" class=\"dataframe\">\n",
       "  <thead>\n",
       "    <tr style=\"text-align: right;\">\n",
       "      <th></th>\n",
       "      <th>gender</th>\n",
       "      <th>ever_married</th>\n",
       "      <th>work_type</th>\n",
       "      <th>Residence_type</th>\n",
       "      <th>smoking_status</th>\n",
       "      <th>id</th>\n",
       "      <th>age</th>\n",
       "      <th>hypertension</th>\n",
       "      <th>heart_disease</th>\n",
       "      <th>avg_glucose_level</th>\n",
       "      <th>bmi</th>\n",
       "      <th>stroke</th>\n",
       "    </tr>\n",
       "  </thead>\n",
       "  <tbody>\n",
       "    <tr>\n",
       "      <th>0</th>\n",
       "      <td>Male</td>\n",
       "      <td>Yes</td>\n",
       "      <td>Private</td>\n",
       "      <td>Urban</td>\n",
       "      <td>formerly smoked</td>\n",
       "      <td>9046.0</td>\n",
       "      <td>67.0</td>\n",
       "      <td>0.0</td>\n",
       "      <td>1.0</td>\n",
       "      <td>228.69</td>\n",
       "      <td>36.60</td>\n",
       "      <td>1.0</td>\n",
       "    </tr>\n",
       "    <tr>\n",
       "      <th>1</th>\n",
       "      <td>Female</td>\n",
       "      <td>Yes</td>\n",
       "      <td>Self-employed</td>\n",
       "      <td>Rural</td>\n",
       "      <td>never smoked</td>\n",
       "      <td>51676.0</td>\n",
       "      <td>61.0</td>\n",
       "      <td>0.0</td>\n",
       "      <td>0.0</td>\n",
       "      <td>202.21</td>\n",
       "      <td>28.08</td>\n",
       "      <td>1.0</td>\n",
       "    </tr>\n",
       "    <tr>\n",
       "      <th>2</th>\n",
       "      <td>Male</td>\n",
       "      <td>Yes</td>\n",
       "      <td>Private</td>\n",
       "      <td>Rural</td>\n",
       "      <td>never smoked</td>\n",
       "      <td>31112.0</td>\n",
       "      <td>80.0</td>\n",
       "      <td>0.0</td>\n",
       "      <td>1.0</td>\n",
       "      <td>105.92</td>\n",
       "      <td>32.50</td>\n",
       "      <td>1.0</td>\n",
       "    </tr>\n",
       "    <tr>\n",
       "      <th>3</th>\n",
       "      <td>Female</td>\n",
       "      <td>Yes</td>\n",
       "      <td>Private</td>\n",
       "      <td>Urban</td>\n",
       "      <td>smokes</td>\n",
       "      <td>60182.0</td>\n",
       "      <td>49.0</td>\n",
       "      <td>0.0</td>\n",
       "      <td>0.0</td>\n",
       "      <td>171.23</td>\n",
       "      <td>34.40</td>\n",
       "      <td>1.0</td>\n",
       "    </tr>\n",
       "    <tr>\n",
       "      <th>4</th>\n",
       "      <td>Female</td>\n",
       "      <td>Yes</td>\n",
       "      <td>Self-employed</td>\n",
       "      <td>Rural</td>\n",
       "      <td>never smoked</td>\n",
       "      <td>1665.0</td>\n",
       "      <td>79.0</td>\n",
       "      <td>1.0</td>\n",
       "      <td>0.0</td>\n",
       "      <td>174.12</td>\n",
       "      <td>24.00</td>\n",
       "      <td>1.0</td>\n",
       "    </tr>\n",
       "  </tbody>\n",
       "</table>\n",
       "</div>"
      ],
      "text/plain": [
       "   gender ever_married      work_type Residence_type   smoking_status  \\\n",
       "0    Male          Yes        Private          Urban  formerly smoked   \n",
       "1  Female          Yes  Self-employed          Rural     never smoked   \n",
       "2    Male          Yes        Private          Rural     never smoked   \n",
       "3  Female          Yes        Private          Urban           smokes   \n",
       "4  Female          Yes  Self-employed          Rural     never smoked   \n",
       "\n",
       "        id   age  hypertension  heart_disease  avg_glucose_level    bmi  \\\n",
       "0   9046.0  67.0           0.0            1.0             228.69  36.60   \n",
       "1  51676.0  61.0           0.0            0.0             202.21  28.08   \n",
       "2  31112.0  80.0           0.0            1.0             105.92  32.50   \n",
       "3  60182.0  49.0           0.0            0.0             171.23  34.40   \n",
       "4   1665.0  79.0           1.0            0.0             174.12  24.00   \n",
       "\n",
       "   stroke  \n",
       "0     1.0  \n",
       "1     1.0  \n",
       "2     1.0  \n",
       "3     1.0  \n",
       "4     1.0  "
      ]
     },
     "execution_count": 8,
     "metadata": {},
     "output_type": "execute_result"
    }
   ],
   "source": [
    "non_numerical_columns = data.select_dtypes(exclude=['number']).columns #Chọn dữ liệu không phải là số\n",
    "if len(non_numerical_columns) > 0:\n",
    "    data_update = pd.concat([data[non_numerical_columns], filled_df], axis=1)\n",
    "else:\n",
    "    data_update = filled_df\n",
    "\n",
    "data_update.head()"
   ]
  },
  {
   "cell_type": "code",
   "execution_count": 9,
   "id": "28750d83",
   "metadata": {},
   "outputs": [
    {
     "name": "stdout",
     "output_type": "stream",
     "text": [
      "<class 'pandas.core.frame.DataFrame'>\n",
      "RangeIndex: 5110 entries, 0 to 5109\n",
      "Data columns (total 12 columns):\n",
      " #   Column             Non-Null Count  Dtype  \n",
      "---  ------             --------------  -----  \n",
      " 0   gender             5110 non-null   object \n",
      " 1   ever_married       5110 non-null   object \n",
      " 2   work_type          5110 non-null   object \n",
      " 3   Residence_type     5110 non-null   object \n",
      " 4   smoking_status     5110 non-null   object \n",
      " 5   id                 5110 non-null   float64\n",
      " 6   age                5110 non-null   float64\n",
      " 7   hypertension       5110 non-null   float64\n",
      " 8   heart_disease      5110 non-null   float64\n",
      " 9   avg_glucose_level  5110 non-null   float64\n",
      " 10  bmi                5110 non-null   float64\n",
      " 11  stroke             5110 non-null   float64\n",
      "dtypes: float64(7), object(5)\n",
      "memory usage: 479.2+ KB\n"
     ]
    }
   ],
   "source": [
    "data_update.info()"
   ]
  },
  {
   "cell_type": "markdown",
   "id": "f988c1d3",
   "metadata": {},
   "source": [
    "## 1.2 Mã hoá dữ liệu"
   ]
  },
  {
   "cell_type": "code",
   "execution_count": 10,
   "id": "738e622a",
   "metadata": {},
   "outputs": [],
   "source": [
    "data_update.dropna(inplace = True)"
   ]
  },
  {
   "cell_type": "code",
   "execution_count": 11,
   "id": "52ed419c",
   "metadata": {},
   "outputs": [
    {
     "name": "stdout",
     "output_type": "stream",
     "text": [
      "{'Female': 2994, 'Male': 2115, 'Other': 1}\n",
      "{'Yes': 3353, 'No': 1757}\n",
      "{'Private': 2925, 'Self-employed': 819, 'children': 687, 'Govt_job': 657, 'Never_worked': 22}\n",
      "{'Urban': 2596, 'Rural': 2514}\n",
      "{'never smoked': 1892, 'Unknown': 1544, 'formerly smoked': 885, 'smokes': 789}\n"
     ]
    },
    {
     "data": {
      "text/html": [
       "<div>\n",
       "<style scoped>\n",
       "    .dataframe tbody tr th:only-of-type {\n",
       "        vertical-align: middle;\n",
       "    }\n",
       "\n",
       "    .dataframe tbody tr th {\n",
       "        vertical-align: top;\n",
       "    }\n",
       "\n",
       "    .dataframe thead th {\n",
       "        text-align: right;\n",
       "    }\n",
       "</style>\n",
       "<table border=\"1\" class=\"dataframe\">\n",
       "  <thead>\n",
       "    <tr style=\"text-align: right;\">\n",
       "      <th></th>\n",
       "      <th>gender</th>\n",
       "      <th>ever_married</th>\n",
       "      <th>work_type</th>\n",
       "      <th>Residence_type</th>\n",
       "      <th>smoking_status</th>\n",
       "      <th>id</th>\n",
       "      <th>age</th>\n",
       "      <th>hypertension</th>\n",
       "      <th>heart_disease</th>\n",
       "      <th>avg_glucose_level</th>\n",
       "      <th>bmi</th>\n",
       "      <th>stroke</th>\n",
       "    </tr>\n",
       "  </thead>\n",
       "  <tbody>\n",
       "    <tr>\n",
       "      <th>0</th>\n",
       "      <td>0.413894</td>\n",
       "      <td>0.656164</td>\n",
       "      <td>0.572407</td>\n",
       "      <td>0.508023</td>\n",
       "      <td>0.173190</td>\n",
       "      <td>9046.0</td>\n",
       "      <td>67.0</td>\n",
       "      <td>0.0</td>\n",
       "      <td>1.0</td>\n",
       "      <td>228.69</td>\n",
       "      <td>36.60</td>\n",
       "      <td>1.0</td>\n",
       "    </tr>\n",
       "    <tr>\n",
       "      <th>1</th>\n",
       "      <td>0.585910</td>\n",
       "      <td>0.656164</td>\n",
       "      <td>0.160274</td>\n",
       "      <td>0.491977</td>\n",
       "      <td>0.370254</td>\n",
       "      <td>51676.0</td>\n",
       "      <td>61.0</td>\n",
       "      <td>0.0</td>\n",
       "      <td>0.0</td>\n",
       "      <td>202.21</td>\n",
       "      <td>28.08</td>\n",
       "      <td>1.0</td>\n",
       "    </tr>\n",
       "    <tr>\n",
       "      <th>2</th>\n",
       "      <td>0.413894</td>\n",
       "      <td>0.656164</td>\n",
       "      <td>0.572407</td>\n",
       "      <td>0.491977</td>\n",
       "      <td>0.370254</td>\n",
       "      <td>31112.0</td>\n",
       "      <td>80.0</td>\n",
       "      <td>0.0</td>\n",
       "      <td>1.0</td>\n",
       "      <td>105.92</td>\n",
       "      <td>32.50</td>\n",
       "      <td>1.0</td>\n",
       "    </tr>\n",
       "    <tr>\n",
       "      <th>3</th>\n",
       "      <td>0.585910</td>\n",
       "      <td>0.656164</td>\n",
       "      <td>0.572407</td>\n",
       "      <td>0.508023</td>\n",
       "      <td>0.154403</td>\n",
       "      <td>60182.0</td>\n",
       "      <td>49.0</td>\n",
       "      <td>0.0</td>\n",
       "      <td>0.0</td>\n",
       "      <td>171.23</td>\n",
       "      <td>34.40</td>\n",
       "      <td>1.0</td>\n",
       "    </tr>\n",
       "    <tr>\n",
       "      <th>4</th>\n",
       "      <td>0.585910</td>\n",
       "      <td>0.656164</td>\n",
       "      <td>0.160274</td>\n",
       "      <td>0.491977</td>\n",
       "      <td>0.370254</td>\n",
       "      <td>1665.0</td>\n",
       "      <td>79.0</td>\n",
       "      <td>1.0</td>\n",
       "      <td>0.0</td>\n",
       "      <td>174.12</td>\n",
       "      <td>24.00</td>\n",
       "      <td>1.0</td>\n",
       "    </tr>\n",
       "  </tbody>\n",
       "</table>\n",
       "</div>"
      ],
      "text/plain": [
       "     gender  ever_married  work_type  Residence_type  smoking_status       id  \\\n",
       "0  0.413894      0.656164   0.572407        0.508023        0.173190   9046.0   \n",
       "1  0.585910      0.656164   0.160274        0.491977        0.370254  51676.0   \n",
       "2  0.413894      0.656164   0.572407        0.491977        0.370254  31112.0   \n",
       "3  0.585910      0.656164   0.572407        0.508023        0.154403  60182.0   \n",
       "4  0.585910      0.656164   0.160274        0.491977        0.370254   1665.0   \n",
       "\n",
       "    age  hypertension  heart_disease  avg_glucose_level    bmi  stroke  \n",
       "0  67.0           0.0            1.0             228.69  36.60     1.0  \n",
       "1  61.0           0.0            0.0             202.21  28.08     1.0  \n",
       "2  80.0           0.0            1.0             105.92  32.50     1.0  \n",
       "3  49.0           0.0            0.0             171.23  34.40     1.0  \n",
       "4  79.0           1.0            0.0             174.12  24.00     1.0  "
      ]
     },
     "execution_count": 11,
     "metadata": {},
     "output_type": "execute_result"
    }
   ],
   "source": [
    "categorical_col = ['gender', 'ever_married', 'work_type', 'Residence_type', 'smoking_status']\n",
    "\n",
    "for col in categorical_col:\n",
    "    value_counts = data_update[col].value_counts().to_dict()\n",
    "    print(value_counts)  # Corrected line without the typo 'q'\n",
    "    data_update[col] = data_update[col].map(value_counts)\n",
    "    frequency_count = (data_update[col].value_counts() / len(data_update)).to_dict()\n",
    "    data_update[col] = data_update[col].map(frequency_count)\n",
    "\n",
    "data_update.head()"
   ]
  },
  {
   "cell_type": "markdown",
   "id": "2aa19900",
   "metadata": {},
   "source": [
    "## 1.3 Xử lý ngoại lệ"
   ]
  },
  {
   "cell_type": "code",
   "execution_count": 12,
   "id": "c9343ca3",
   "metadata": {},
   "outputs": [
    {
     "data": {
      "text/plain": [
       "<Axes: ylabel='avg_glucose_level'>"
      ]
     },
     "execution_count": 12,
     "metadata": {},
     "output_type": "execute_result"
    },
    {
     "data": {
      "image/png": "[encoded data removed]",
      "text/plain": [
       "<Figure size 640x480 with 1 Axes>"
      ]
     },
     "metadata": {},
     "output_type": "display_data"
    }
   ],
   "source": [
    "sns.boxplot( y='avg_glucose_level', data=data_update)"
   ]
  },
  {
   "cell_type": "code",
   "execution_count": 13,
   "id": "ddcd18e3",
   "metadata": {},
   "outputs": [
    {
     "name": "stdout",
     "output_type": "stream",
     "text": [
      "21.977500000000006\n",
      "169.35750000000002\n"
     ]
    },
    {
     "data": {
      "text/plain": [
       "<Axes: ylabel='avg_glucose_level'>"
      ]
     },
     "execution_count": 13,
     "metadata": {},
     "output_type": "execute_result"
    },
    {
     "data": {
      "image/png": "[encoded data removed]",
      "text/plain": [
       "<Figure size 640x480 with 1 Axes>"
      ]
     },
     "metadata": {},
     "output_type": "display_data"
    }
   ],
   "source": [
    "IQR_glucose = data_update[\"avg_glucose_level\"].quantile(0.75) - data_update[\"avg_glucose_level\"].quantile(0.25)\n",
    "\n",
    "lower_glucose_limit = data_update[\"avg_glucose_level\"].quantile(0.25) - (IQR_glucose * 1.5)\n",
    "upper_glucose_limit = data_update[\"avg_glucose_level\"].quantile(0.75) + (IQR_glucose * 1.5)\n",
    "\n",
    "print(lower_glucose_limit)\n",
    "print(upper_glucose_limit)\n",
    "\n",
    "data_update[\"avg_glucose_level\"]= np.where(data_update[\"avg_glucose_level\"] > upper_glucose_limit, upper_glucose_limit,\n",
    "            np.where(data_update[\"avg_glucose_level\"] < lower_glucose_limit, lower_glucose_limit, data_update[\"avg_glucose_level\"]))\n",
    "\n",
    "sns.boxplot( y='avg_glucose_level', data=data_update)"
   ]
  },
  {
   "cell_type": "code",
   "execution_count": 14,
   "id": "ccc130ba",
   "metadata": {},
   "outputs": [
    {
     "data": {
      "text/plain": [
       "<Axes: ylabel='bmi'>"
      ]
     },
     "execution_count": 14,
     "metadata": {},
     "output_type": "execute_result"
    },
    {
     "data": {
      "image/png": "[encoded data removed]",
      "text/plain": [
       "<Figure size 640x480 with 1 Axes>"
      ]
     },
     "metadata": {},
     "output_type": "display_data"
    }
   ],
   "source": [
    "sns.boxplot( y='bmi', data=data_update)"
   ]
  },
  {
   "cell_type": "code",
   "execution_count": 15,
   "id": "681dafa9",
   "metadata": {},
   "outputs": [
    {
     "name": "stdout",
     "output_type": "stream",
     "text": [
      "9.749999999999998\n",
      "46.95\n"
     ]
    },
    {
     "data": {
      "text/plain": [
       "<Axes: ylabel='bmi'>"
      ]
     },
     "execution_count": 15,
     "metadata": {},
     "output_type": "execute_result"
    },
    {
     "data": {
      "image/png": "[encoded data removed]",
      "text/plain": [
       "<Figure size 640x480 with 1 Axes>"
      ]
     },
     "metadata": {},
     "output_type": "display_data"
    }
   ],
   "source": [
    "IQR_bmi = data_update[\"bmi\"].quantile(0.75) - data_update[\"bmi\"].quantile(0.25)\n",
    "\n",
    "lower_bmi_limit = data_update[\"bmi\"].quantile(0.25) - (IQR_bmi * 1.5)\n",
    "upper_bmi_limit = data_update[\"bmi\"].quantile(0.75) + (IQR_bmi * 1.5)\n",
    "\n",
    "print(lower_bmi_limit)\n",
    "print(upper_bmi_limit)\n",
    "\n",
    "data_update[\"bmi\"]= np.where(data_update[\"bmi\"] > upper_bmi_limit, upper_bmi_limit,\n",
    "            np.where(data_update[\"bmi\"] < lower_bmi_limit, lower_bmi_limit, data_update[\"bmi\"]))\n",
    "\n",
    "sns.boxplot( y='bmi', data=data_update)"
   ]
  },
  {
   "cell_type": "markdown",
   "id": "a74bafa3",
   "metadata": {},
   "source": [
    "## 1.4. Xử lý mất cân bằng dữ liệu"
   ]
  },
  {
   "cell_type": "code",
   "execution_count": 16,
   "id": "7cf9d7cf",
   "metadata": {},
   "outputs": [
    {
     "data": {
      "text/plain": [
       "<Axes: xlabel='stroke', ylabel='count'>"
      ]
     },
     "execution_count": 16,
     "metadata": {},
     "output_type": "execute_result"
    },
    {
     "data": {
      "image/png": "[encoded data removed]",
      "text/plain": [
       "<Figure size 640x480 with 1 Axes>"
      ]
     },
     "metadata": {},
     "output_type": "display_data"
    }
   ],
   "source": [
    "sns.countplot(x='stroke', data=data_update)"
   ]
  },
  {
   "cell_type": "code",
   "execution_count": 17,
   "id": "e501f0a5",
   "metadata": {},
   "outputs": [
    {
     "data": {
      "text/plain": [
       "<Axes: xlabel='stroke', ylabel='count'>"
      ]
     },
     "execution_count": 17,
     "metadata": {},
     "output_type": "execute_result"
    },
    {
     "data": {
      "image/png": "[encoded data removed]",
      "text/plain": [
       "<Figure size 640x480 with 1 Axes>"
      ]
     },
     "metadata": {},
     "output_type": "display_data"
    }
   ],
   "source": [
    "from imblearn.over_sampling import SMOTE\n",
    "\n",
    "X = data_update.drop('stroke', axis=1)\n",
    "y = data_update['stroke']\n",
    "\n",
    "smote = SMOTE(random_state=42)\n",
    "X_os, y_os = smote.fit_resample(X, y)\n",
    "\n",
    "oversampled_df = pd.concat([pd.DataFrame(X_os, columns=X.columns), pd.Series(y_os, name='stroke')], axis=1)\n",
    "\n",
    "sns.countplot(x='stroke', data=oversampled_df)"
   ]
  },
  {
   "cell_type": "code",
   "execution_count": 18,
   "id": "759adea7",
   "metadata": {},
   "outputs": [
    {
     "data": {
      "text/html": [
       "<div>\n",
       "<style scoped>\n",
       "    .dataframe tbody tr th:only-of-type {\n",
       "        vertical-align: middle;\n",
       "    }\n",
       "\n",
       "    .dataframe tbody tr th {\n",
       "        vertical-align: top;\n",
       "    }\n",
       "\n",
       "    .dataframe thead th {\n",
       "        text-align: right;\n",
       "    }\n",
       "</style>\n",
       "<table border=\"1\" class=\"dataframe\">\n",
       "  <thead>\n",
       "    <tr style=\"text-align: right;\">\n",
       "      <th></th>\n",
       "      <th>gender</th>\n",
       "      <th>ever_married</th>\n",
       "      <th>work_type</th>\n",
       "      <th>Residence_type</th>\n",
       "      <th>smoking_status</th>\n",
       "      <th>id</th>\n",
       "      <th>age</th>\n",
       "      <th>hypertension</th>\n",
       "      <th>heart_disease</th>\n",
       "      <th>avg_glucose_level</th>\n",
       "      <th>bmi</th>\n",
       "      <th>stroke</th>\n",
       "    </tr>\n",
       "  </thead>\n",
       "  <tbody>\n",
       "    <tr>\n",
       "      <th>0</th>\n",
       "      <td>0.413894</td>\n",
       "      <td>0.656164</td>\n",
       "      <td>0.572407</td>\n",
       "      <td>0.508023</td>\n",
       "      <td>0.173190</td>\n",
       "      <td>9046.0</td>\n",
       "      <td>67.0</td>\n",
       "      <td>0.0</td>\n",
       "      <td>1.0</td>\n",
       "      <td>169.3575</td>\n",
       "      <td>36.60</td>\n",
       "      <td>1.0</td>\n",
       "    </tr>\n",
       "    <tr>\n",
       "      <th>1</th>\n",
       "      <td>0.585910</td>\n",
       "      <td>0.656164</td>\n",
       "      <td>0.160274</td>\n",
       "      <td>0.491977</td>\n",
       "      <td>0.370254</td>\n",
       "      <td>51676.0</td>\n",
       "      <td>61.0</td>\n",
       "      <td>0.0</td>\n",
       "      <td>0.0</td>\n",
       "      <td>169.3575</td>\n",
       "      <td>28.08</td>\n",
       "      <td>1.0</td>\n",
       "    </tr>\n",
       "    <tr>\n",
       "      <th>2</th>\n",
       "      <td>0.413894</td>\n",
       "      <td>0.656164</td>\n",
       "      <td>0.572407</td>\n",
       "      <td>0.491977</td>\n",
       "      <td>0.370254</td>\n",
       "      <td>31112.0</td>\n",
       "      <td>80.0</td>\n",
       "      <td>0.0</td>\n",
       "      <td>1.0</td>\n",
       "      <td>105.9200</td>\n",
       "      <td>32.50</td>\n",
       "      <td>1.0</td>\n",
       "    </tr>\n",
       "    <tr>\n",
       "      <th>3</th>\n",
       "      <td>0.585910</td>\n",
       "      <td>0.656164</td>\n",
       "      <td>0.572407</td>\n",
       "      <td>0.508023</td>\n",
       "      <td>0.154403</td>\n",
       "      <td>60182.0</td>\n",
       "      <td>49.0</td>\n",
       "      <td>0.0</td>\n",
       "      <td>0.0</td>\n",
       "      <td>169.3575</td>\n",
       "      <td>34.40</td>\n",
       "      <td>1.0</td>\n",
       "    </tr>\n",
       "    <tr>\n",
       "      <th>4</th>\n",
       "      <td>0.585910</td>\n",
       "      <td>0.656164</td>\n",
       "      <td>0.160274</td>\n",
       "      <td>0.491977</td>\n",
       "      <td>0.370254</td>\n",
       "      <td>1665.0</td>\n",
       "      <td>79.0</td>\n",
       "      <td>1.0</td>\n",
       "      <td>0.0</td>\n",
       "      <td>169.3575</td>\n",
       "      <td>24.00</td>\n",
       "      <td>1.0</td>\n",
       "    </tr>\n",
       "  </tbody>\n",
       "</table>\n",
       "</div>"
      ],
      "text/plain": [
       "     gender  ever_married  work_type  Residence_type  smoking_status       id  \\\n",
       "0  0.413894      0.656164   0.572407        0.508023        0.173190   9046.0   \n",
       "1  0.585910      0.656164   0.160274        0.491977        0.370254  51676.0   \n",
       "2  0.413894      0.656164   0.572407        0.491977        0.370254  31112.0   \n",
       "3  0.585910      0.656164   0.572407        0.508023        0.154403  60182.0   \n",
       "4  0.585910      0.656164   0.160274        0.491977        0.370254   1665.0   \n",
       "\n",
       "    age  hypertension  heart_disease  avg_glucose_level    bmi  stroke  \n",
       "0  67.0           0.0            1.0           169.3575  36.60     1.0  \n",
       "1  61.0           0.0            0.0           169.3575  28.08     1.0  \n",
       "2  80.0           0.0            1.0           105.9200  32.50     1.0  \n",
       "3  49.0           0.0            0.0           169.3575  34.40     1.0  \n",
       "4  79.0           1.0            0.0           169.3575  24.00     1.0  "
      ]
     },
     "execution_count": 18,
     "metadata": {},
     "output_type": "execute_result"
    }
   ],
   "source": [
    "data_update.head()"
   ]
  },
  {
   "cell_type": "markdown",
   "id": "8b227ccd",
   "metadata": {},
   "source": [
    "## 1.5. Rời rạc hoá dữ liệu"
   ]
  },
  {
   "cell_type": "code",
   "execution_count": 19,
   "id": "83dfa548",
   "metadata": {},
   "outputs": [
    {
     "data": {
      "text/plain": [
       "<Axes: >"
      ]
     },
     "execution_count": 19,
     "metadata": {},
     "output_type": "execute_result"
    },
    {
     "data": {
      "image/png": "[encoded data removed]",
      "text/plain": [
       "<Figure size 1000x800 with 2 Axes>"
      ]
     },
     "metadata": {},
     "output_type": "display_data"
    }
   ],
   "source": [
    "cereal_corr=data_update.corr()\n",
    "ones_corr=np.ones_like(cereal_corr, dtype=bool)\n",
    "\n",
    "mask=np.triu(ones_corr)\n",
    "cmap=sns.diverging_palette(0,230,90,60, as_cmap=True)\n",
    "\n",
    "plt.figure(figsize=(10, 8))\n",
    "sns.heatmap(data=cereal_corr, mask=mask, annot=True, fmt='.2f', cmap=cmap, vmin=-1, vmax=1)"
   ]
  },
  {
   "cell_type": "code",
   "execution_count": 20,
   "id": "c5e28424",
   "metadata": {},
   "outputs": [
    {
     "data": {
      "text/html": [
       "<div>\n",
       "<style scoped>\n",
       "    .dataframe tbody tr th:only-of-type {\n",
       "        vertical-align: middle;\n",
       "    }\n",
       "\n",
       "    .dataframe tbody tr th {\n",
       "        vertical-align: top;\n",
       "    }\n",
       "\n",
       "    .dataframe thead th {\n",
       "        text-align: right;\n",
       "    }\n",
       "</style>\n",
       "<table border=\"1\" class=\"dataframe\">\n",
       "  <thead>\n",
       "    <tr style=\"text-align: right;\">\n",
       "      <th></th>\n",
       "      <th>gender</th>\n",
       "      <th>ever_married</th>\n",
       "      <th>work_type</th>\n",
       "      <th>Residence_type</th>\n",
       "      <th>smoking_status</th>\n",
       "      <th>age</th>\n",
       "      <th>hypertension</th>\n",
       "      <th>heart_disease</th>\n",
       "      <th>avg_glucose_level</th>\n",
       "      <th>bmi</th>\n",
       "      <th>stroke</th>\n",
       "    </tr>\n",
       "  </thead>\n",
       "  <tbody>\n",
       "    <tr>\n",
       "      <th>0</th>\n",
       "      <td>0.413894</td>\n",
       "      <td>0.656164</td>\n",
       "      <td>0.572407</td>\n",
       "      <td>0.508023</td>\n",
       "      <td>0.173190</td>\n",
       "      <td>67.0</td>\n",
       "      <td>0.0</td>\n",
       "      <td>1.0</td>\n",
       "      <td>169.3575</td>\n",
       "      <td>36.60</td>\n",
       "      <td>1.0</td>\n",
       "    </tr>\n",
       "    <tr>\n",
       "      <th>1</th>\n",
       "      <td>0.585910</td>\n",
       "      <td>0.656164</td>\n",
       "      <td>0.160274</td>\n",
       "      <td>0.491977</td>\n",
       "      <td>0.370254</td>\n",
       "      <td>61.0</td>\n",
       "      <td>0.0</td>\n",
       "      <td>0.0</td>\n",
       "      <td>169.3575</td>\n",
       "      <td>28.08</td>\n",
       "      <td>1.0</td>\n",
       "    </tr>\n",
       "    <tr>\n",
       "      <th>2</th>\n",
       "      <td>0.413894</td>\n",
       "      <td>0.656164</td>\n",
       "      <td>0.572407</td>\n",
       "      <td>0.491977</td>\n",
       "      <td>0.370254</td>\n",
       "      <td>80.0</td>\n",
       "      <td>0.0</td>\n",
       "      <td>1.0</td>\n",
       "      <td>105.9200</td>\n",
       "      <td>32.50</td>\n",
       "      <td>1.0</td>\n",
       "    </tr>\n",
       "    <tr>\n",
       "      <th>3</th>\n",
       "      <td>0.585910</td>\n",
       "      <td>0.656164</td>\n",
       "      <td>0.572407</td>\n",
       "      <td>0.508023</td>\n",
       "      <td>0.154403</td>\n",
       "      <td>49.0</td>\n",
       "      <td>0.0</td>\n",
       "      <td>0.0</td>\n",
       "      <td>169.3575</td>\n",
       "      <td>34.40</td>\n",
       "      <td>1.0</td>\n",
       "    </tr>\n",
       "    <tr>\n",
       "      <th>4</th>\n",
       "      <td>0.585910</td>\n",
       "      <td>0.656164</td>\n",
       "      <td>0.160274</td>\n",
       "      <td>0.491977</td>\n",
       "      <td>0.370254</td>\n",
       "      <td>79.0</td>\n",
       "      <td>1.0</td>\n",
       "      <td>0.0</td>\n",
       "      <td>169.3575</td>\n",
       "      <td>24.00</td>\n",
       "      <td>1.0</td>\n",
       "    </tr>\n",
       "  </tbody>\n",
       "</table>\n",
       "</div>"
      ],
      "text/plain": [
       "     gender  ever_married  work_type  Residence_type  smoking_status   age  \\\n",
       "0  0.413894      0.656164   0.572407        0.508023        0.173190  67.0   \n",
       "1  0.585910      0.656164   0.160274        0.491977        0.370254  61.0   \n",
       "2  0.413894      0.656164   0.572407        0.491977        0.370254  80.0   \n",
       "3  0.585910      0.656164   0.572407        0.508023        0.154403  49.0   \n",
       "4  0.585910      0.656164   0.160274        0.491977        0.370254  79.0   \n",
       "\n",
       "   hypertension  heart_disease  avg_glucose_level    bmi  stroke  \n",
       "0           0.0            1.0           169.3575  36.60     1.0  \n",
       "1           0.0            0.0           169.3575  28.08     1.0  \n",
       "2           0.0            1.0           105.9200  32.50     1.0  \n",
       "3           0.0            0.0           169.3575  34.40     1.0  \n",
       "4           1.0            0.0           169.3575  24.00     1.0  "
      ]
     },
     "execution_count": 20,
     "metadata": {},
     "output_type": "execute_result"
    }
   ],
   "source": [
    "data_update =data_update.drop('id', axis=1)\n",
    "data_update.head()"
   ]
  },
  {
   "cell_type": "code",
   "execution_count": 21,
   "id": "9d9837f6",
   "metadata": {},
   "outputs": [
    {
     "data": {
      "image/png": "[encoded data removed]",
      "text/plain": [
       "<Figure size 640x480 with 1 Axes>"
      ]
     },
     "metadata": {},
     "output_type": "display_data"
    },
    {
     "data": {
      "image/png": "[encoded data removed]",
      "text/plain": [
       "<Figure size 640x480 with 1 Axes>"
      ]
     },
     "metadata": {},
     "output_type": "display_data"
    },
    {
     "data": {
      "image/png": "[encoded data removed]",
      "text/plain": [
       "<Figure size 640x480 with 1 Axes>"
      ]
     },
     "metadata": {},
     "output_type": "display_data"
    }
   ],
   "source": [
    "from sklearn.cluster import KMeans\n",
    "column_data = data_update[['age','avg_glucose_level','bmi']]\n",
    "\n",
    "for col_name, col in column_data.items():\n",
    "    mean = col.mean()\n",
    "    std_dev = col.std()\n",
    "    z_scores = (col - mean) / std_dev\n",
    "\n",
    "    # Chuyển đổi z-scores thành mảng numpy 1D\n",
    "    z_scores_array = np.array(z_scores).reshape(-1, 1)\n",
    "\n",
    "    # Sử dụng phương pháp Elbow để chọn số lượng cụm\n",
    "    distortions = []\n",
    "    K = range(1,10)\n",
    "    for k in K:\n",
    "        kmeans = KMeans(n_clusters=k)\n",
    "        kmeans.fit(z_scores_array)\n",
    "        distortions.append(kmeans.inertia_)\n",
    "\n",
    "    # Vẽ biểu đồ elbow\n",
    "    plt.plot(K, distortions, 'bx-')\n",
    "    plt.xlabel('Số lượng cụm (k)')\n",
    "    plt.ylabel('Distortion')\n",
    "    plt.title(f'Phương pháp Elbow để chọn số lượng cụm cho cột {col_name}')\n",
    "    plt.show()\n"
   ]
  },
  {
   "cell_type": "markdown",
   "id": "3d06e57d",
   "metadata": {},
   "source": [
    "### Nhận xét:\n",
    "<p>Ở điểm 3 thì tốc độ suy giảm của hàm biến dạng sẽ thay đổi nhiều nhất ở mỗi cột => Chọn chia cột tuổi, mức đường huyết trung bình và bmi thành 3 cụm<p\\>"
   ]
  },
  {
   "cell_type": "code",
   "execution_count": 22,
   "id": "06d98648",
   "metadata": {},
   "outputs": [
    {
     "name": "stdout",
     "output_type": "stream",
     "text": [
      "[array([8.00000000e-02, 2.79943401e+01, 5.48357421e+01, 8.20000000e+01])]\n",
      "[array([ 55.12      ,  90.80998532, 135.0044206 , 169.3575    ])]\n",
      "[array([10.3       , 25.5903353 , 34.95102701, 46.95      ])]\n"
     ]
    }
   ],
   "source": [
    "from sklearn.preprocessing import KBinsDiscretizer\n",
    "\n",
    "for col in column_data:\n",
    "    discretization = KBinsDiscretizer(n_bins=3, encode='ordinal', strategy='kmeans')\n",
    "    discretization.fit(data_update[[col]])\n",
    "\n",
    "    intervals = discretization.bin_edges_.tolist()\n",
    "    print(intervals)"
   ]
  },
  {
   "cell_type": "code",
   "execution_count": 23,
   "id": "2c9a22e1",
   "metadata": {},
   "outputs": [
    {
     "data": {
      "text/html": [
       "<div>\n",
       "<style scoped>\n",
       "    .dataframe tbody tr th:only-of-type {\n",
       "        vertical-align: middle;\n",
       "    }\n",
       "\n",
       "    .dataframe tbody tr th {\n",
       "        vertical-align: top;\n",
       "    }\n",
       "\n",
       "    .dataframe thead th {\n",
       "        text-align: right;\n",
       "    }\n",
       "</style>\n",
       "<table border=\"1\" class=\"dataframe\">\n",
       "  <thead>\n",
       "    <tr style=\"text-align: right;\">\n",
       "      <th></th>\n",
       "      <th>gender</th>\n",
       "      <th>ever_married</th>\n",
       "      <th>work_type</th>\n",
       "      <th>Residence_type</th>\n",
       "      <th>smoking_status</th>\n",
       "      <th>age</th>\n",
       "      <th>hypertension</th>\n",
       "      <th>heart_disease</th>\n",
       "      <th>avg_glucose_level</th>\n",
       "      <th>bmi</th>\n",
       "      <th>stroke</th>\n",
       "    </tr>\n",
       "  </thead>\n",
       "  <tbody>\n",
       "    <tr>\n",
       "      <th>0</th>\n",
       "      <td>0.413894</td>\n",
       "      <td>0.656164</td>\n",
       "      <td>0.572407</td>\n",
       "      <td>0.508023</td>\n",
       "      <td>0.173190</td>\n",
       "      <td>3.0</td>\n",
       "      <td>0.0</td>\n",
       "      <td>1.0</td>\n",
       "      <td>3.0</td>\n",
       "      <td>3.0</td>\n",
       "      <td>1.0</td>\n",
       "    </tr>\n",
       "    <tr>\n",
       "      <th>1</th>\n",
       "      <td>0.585910</td>\n",
       "      <td>0.656164</td>\n",
       "      <td>0.160274</td>\n",
       "      <td>0.491977</td>\n",
       "      <td>0.370254</td>\n",
       "      <td>3.0</td>\n",
       "      <td>0.0</td>\n",
       "      <td>0.0</td>\n",
       "      <td>3.0</td>\n",
       "      <td>2.0</td>\n",
       "      <td>1.0</td>\n",
       "    </tr>\n",
       "    <tr>\n",
       "      <th>2</th>\n",
       "      <td>0.413894</td>\n",
       "      <td>0.656164</td>\n",
       "      <td>0.572407</td>\n",
       "      <td>0.491977</td>\n",
       "      <td>0.370254</td>\n",
       "      <td>3.0</td>\n",
       "      <td>0.0</td>\n",
       "      <td>1.0</td>\n",
       "      <td>2.0</td>\n",
       "      <td>2.0</td>\n",
       "      <td>1.0</td>\n",
       "    </tr>\n",
       "    <tr>\n",
       "      <th>3</th>\n",
       "      <td>0.585910</td>\n",
       "      <td>0.656164</td>\n",
       "      <td>0.572407</td>\n",
       "      <td>0.508023</td>\n",
       "      <td>0.154403</td>\n",
       "      <td>2.0</td>\n",
       "      <td>0.0</td>\n",
       "      <td>0.0</td>\n",
       "      <td>3.0</td>\n",
       "      <td>2.0</td>\n",
       "      <td>1.0</td>\n",
       "    </tr>\n",
       "    <tr>\n",
       "      <th>4</th>\n",
       "      <td>0.585910</td>\n",
       "      <td>0.656164</td>\n",
       "      <td>0.160274</td>\n",
       "      <td>0.491977</td>\n",
       "      <td>0.370254</td>\n",
       "      <td>3.0</td>\n",
       "      <td>1.0</td>\n",
       "      <td>0.0</td>\n",
       "      <td>3.0</td>\n",
       "      <td>1.0</td>\n",
       "      <td>1.0</td>\n",
       "    </tr>\n",
       "  </tbody>\n",
       "</table>\n",
       "</div>"
      ],
      "text/plain": [
       "     gender  ever_married  work_type  Residence_type  smoking_status  age  \\\n",
       "0  0.413894      0.656164   0.572407        0.508023        0.173190  3.0   \n",
       "1  0.585910      0.656164   0.160274        0.491977        0.370254  3.0   \n",
       "2  0.413894      0.656164   0.572407        0.491977        0.370254  3.0   \n",
       "3  0.585910      0.656164   0.572407        0.508023        0.154403  2.0   \n",
       "4  0.585910      0.656164   0.160274        0.491977        0.370254  3.0   \n",
       "\n",
       "   hypertension  heart_disease avg_glucose_level  bmi  stroke  \n",
       "0           0.0            1.0               3.0  3.0     1.0  \n",
       "1           0.0            0.0               3.0  2.0     1.0  \n",
       "2           0.0            1.0               2.0  2.0     1.0  \n",
       "3           0.0            0.0               3.0  2.0     1.0  \n",
       "4           1.0            0.0               3.0  1.0     1.0  "
      ]
     },
     "execution_count": 23,
     "metadata": {},
     "output_type": "execute_result"
    }
   ],
   "source": [
    "intervals = [8.00000000e-02, 2.79943401e+01, 5.48357421e+01, 8.20000000e+01]\n",
    "bin_labels = [float(i) for i in range(1, len(intervals))]\n",
    "data_update['age'] = pd.cut(x=data_update['age'], bins=intervals, labels=bin_labels, include_lowest=True)\n",
    "data_update.head()\n",
    "\n",
    "intervals = [55.12      ,  97.53881954, 163.0872775 , 271.74]\n",
    "bin_labels = [float(i) for i in range(1, len(intervals))]\n",
    "data_update['avg_glucose_level'] = pd.cut(x=data_update['avg_glucose_level'], bins=intervals, labels=bin_labels, include_lowest=True)\n",
    "data_update.head()\n",
    "\n",
    "intervals = [10.3       , 26.13230225, 36.45266473, 97.6       ]\n",
    "bin_labels = [float(i) for i in range(1, len(intervals))]\n",
    "data_update['bmi'] = pd.cut(x=data_update['bmi'], bins=intervals, labels=bin_labels, include_lowest=True)\n",
    "data_update.head()"
   ]
  },
  {
   "cell_type": "markdown",
   "id": "bbbff233",
   "metadata": {},
   "source": [
    "# 2. Xây dựng mô hình"
   ]
  },
  {
   "cell_type": "code",
   "execution_count": 24,
   "id": "93824607",
   "metadata": {},
   "outputs": [],
   "source": [
    "from sklearn.metrics import precision_score, recall_score, f1_score\n",
    "from sklearn.model_selection import train_test_split\n",
    "from sklearn.decomposition import PCA\n",
    "from sklearn.svm import SVC\n",
    "from sklearn import tree\n",
    "import pandas as pd\n",
    "import numpy as np\n",
    "from tkinter import messagebox\n",
    "from tkinter.ttk import *\n",
    "from tkinter import *"
   ]
  },
  {
   "cell_type": "code",
   "execution_count": 25,
   "id": "077618a5",
   "metadata": {},
   "outputs": [],
   "source": [
    "#Hàm đánh giá tỉ lệ dự đoán đúng\n",
    "def RateRating(Y_Pred):\n",
    "    countPredictTrue = 0\n",
    "    for i in range(len(Y_Pred)):\n",
    "        if(Y_Pred[i] == Y_test[i]):\n",
    "            countPredictTrue = countPredictTrue + 1\n",
    "        rate = countPredictTrue / len(Y_Pred)\n",
    "    return rate\n"
   ]
  },
  {
   "cell_type": "code",
   "execution_count": 26,
   "id": "9ef7208f",
   "metadata": {},
   "outputs": [],
   "source": [
    "#Hàm show tỉ lệ dự đoán của thuật toán CART trên 3 độ đo: Precision, Recall, F1\n",
    "def AboutRateCART():\n",
    "    messagebox.showinfo(\"Tỉ lệ dự đoán đúng của CART\",f\"Accuracy score: {maxRateCART*100}%\"+'\\n'\n",
    "                                                    +f\"Precision score: {precision_score(Y_test, bestPredCART, average='micro')*100}%\"+'\\n'\n",
    "                                                    +f\"Recall score: {recall_score(Y_test, bestPredCART, average='micro')*100}%\"+'\\n'\n",
    "                                                    +f\"F1 score: {f1_score(Y_test, bestPredCART, average='micro')*100}%\")\n"
   ]
  },
  {
   "cell_type": "code",
   "execution_count": 27,
   "id": "12688b10",
   "metadata": {},
   "outputs": [],
   "source": [
    "#Hàm dự đoán sử dụng CART\n",
    "def PredictWithCART():\n",
    "    try:\n",
    "        newData = DataEncoder(np.array([[cbbWorkEnvironment.get(), cbbExperience.get(), cbbPassion.get(), cbbAdvancementSpeed.get(), cbbSalary.get()]]))\n",
    "        newData_Decreased = bestPcaCART.transform(newData)\n",
    "        Result = modelMaxCART.predict(newData_Decreased)\n",
    "        lbPredictCART.configure(text=f\"{Result[0]}\")\n",
    "    except:\n",
    "        messagebox.showinfo(\"Cảnh báo\", \"Vui lòng chọn đầy đủ thông tin để dự đoán\")\n"
   ]
  },
  {
   "cell_type": "code",
   "execution_count": 28,
   "id": "18c365e8",
   "metadata": {},
   "outputs": [],
   "source": [
    "#Chia dữ liệu thành 2 phần: DataX là các thuộc tính, DataY là nhãn của dữ liệu\n",
    "DataX = np.array(oversampled_df[['gender','ever_married','work_type','Residence_type','smoking_status','id','age','hypertension','heart_disease','avg_glucose_level','bmi']].values)\n",
    "DataY = np.array(oversampled_df['stroke'].values)\n"
   ]
  },
  {
   "cell_type": "code",
   "execution_count": 29,
   "id": "051915c1",
   "metadata": {},
   "outputs": [],
   "source": [
    "#Bắt đầu thuật toán PCA\n",
    "maxRateCART = 0\n",
    "for i in range(1,len(DataX[0])+1):\n",
    "\n",
    "    #Khai báo PCA và số thành phần cần giữ lại\n",
    "    pca = PCA(n_components = i)\n",
    "\n",
    "    #Tìm một hệ cơ sở trực chuẩn và loại bỏ những thuộc tính ít quan trọng nhất\n",
    "    X_Decreased = pca.fit_transform(DataX)\n",
    "\n",
    "    #Sau khi dữ liệu đã được giảm kích thước thì tiến hành chia dữ liệu thành các phần Train, Test\n",
    "    X_train, X_test, Y_train, Y_test = train_test_split(X_Decreased, DataY, test_size = 0.3, shuffle = False)\n",
    "\n",
    "    #Khai báo phương thức tạo cây với tiêu chí gini (CART), đồng thời tiến hành dựng cây phân lớp\n",
    "    TreeCART = tree.DecisionTreeClassifier(criterion='gini').fit(X_train, Y_train)\n",
    "    #tiến hành dự đoán trên tập test\n",
    "    Y_Pred_CART = TreeCART.predict(X_test)\n",
    "    \n",
    "    #Điều kiện so sánh để lưu lại các thông tin của PCA và mô hình tốt nhất khi được kết hợp với PCA\n",
    "    if(RateRating(Y_Pred_CART) > maxRateCART):\n",
    "        maxRateCART = RateRating(Y_Pred_CART)\n",
    "        numComponentsCART = i\n",
    "        bestPcaCART = pca\n",
    "        modelMaxCART = TreeCART\n",
    "        bestPredCART = Y_Pred_CART\n"
   ]
  },
  {
   "cell_type": "code",
   "execution_count": 30,
   "id": "4cd51949",
   "metadata": {},
   "outputs": [
    {
     "name": "stdout",
     "output_type": "stream",
     "text": [
      "Tỉ lệ dự đoán đúng của thuật toán CART: 0.8786424408639013\n"
     ]
    }
   ],
   "source": [
    "print(\"Tỉ lệ dự đoán đúng của thuật toán CART:\", maxRateCART)"
   ]
  },
  {
   "cell_type": "code",
   "execution_count": 31,
   "id": "161628a4",
   "metadata": {},
   "outputs": [
    {
     "name": "stdout",
     "output_type": "stream",
     "text": [
      "Precision score của CART: 0.8786424408639013\n",
      "Recall score của CART: 0.8786424408639013\n",
      "F1 score của CART: 0.8786424408639013\n",
      "Số lượng chiều tốt nhất: 11\n"
     ]
    }
   ],
   "source": [
    "# Tính Precision, Recall và F1\n",
    "precision = precision_score(Y_test, bestPredCART, average='micro')\n",
    "recall = recall_score(Y_test, bestPredCART, average='micro')\n",
    "f1 = f1_score(Y_test, bestPredCART, average='micro')\n",
    "\n",
    "# Tỷ lệ dự đoán đúng của thuật toán CART trên 3 độ đo\n",
    "print(\"Precision score của CART:\", precision)\n",
    "print(\"Recall score của CART:\", recall)\n",
    "print(\"F1 score của CART:\", f1)\n",
    "print(\"Số lượng chiều tốt nhất:\", numComponentsCART)"
   ]
  },
  {
   "cell_type": "code",
   "execution_count": null,
   "id": "5f960143",
   "metadata": {},
   "outputs": [],
   "source": [
    "FORM = Tk()\n",
    "\n",
    "#Giới hạn kích thước cho form\n",
    "FORM.minsize(900, 700)\n",
    "\n",
    "#Đặt tên cho form\n",
    "FORM.title(\"Dự đoán đột quỵ\")\n",
    "\n",
    "#Định nghĩa font chữ\n",
    "MyFont = (\"Arial\", 20)\n",
    "\n",
    "#Các đối tượng được dùng trong form: Label, Combobox, Button, LabelFrame (Group) \n",
    "\n",
    "lbTitle = Label(FORM, text=\"Thông tin ảnh hưởng đến đột quỵ\", font=(\"Arial\", 30))\n",
    "lbTitle.grid(row=0, column=0, columnspan=2, padx=0, pady=10, sticky=\"we\")\n",
    "\n",
    "lbGender = Label(FORM, font=MyFont, text=\"Giới tính:\", bg=\"#C7CBD1\")\n",
    "lbGender.grid(row=1, column=0, padx=(10, 0), pady=5, sticky=\"nswe\")\n",
    "lbMarried = Label(FORM, font=MyFont, text=\"Tình trạng hôn nhân:\", bg=\"#C7CBD1\")\n",
    "lbMarried.grid(row=2, column=0, padx=(10, 0), pady=5, sticky=\"nswe\")\n",
    "lbWorktype = Label(FORM, font=MyFont, text=\"Loại việc làm:\", bg=\"#C7CBD1\")\n",
    "lbWorktype.grid(row=3, column=0, padx=(10, 0), pady=5, sticky=\"nswe\")\n",
    "lbResidence = Label(FORM, font=MyFont, text=\"Loại nơi cư trú:\", bg=\"#C7CBD1\")\n",
    "lbResidence.grid(row=4, column=0, padx=(10, 0), pady=5, sticky=\"nswe\")\n",
    "lbSmokingStatus = Label(FORM, font=MyFont, text=\"Tình trạng hút thuốc:\", bg=\"#C7CBD1\")\n",
    "lbSmokingStatus.grid(row=5, column=0, padx=(10, 0), pady=5, sticky=\"nswe\")\n",
    "lbID = Label(FORM, font=MyFont, text=\"ID:\", bg=\"#C7CBD1\")\n",
    "lbID.grid(row=6, column=0, padx=(10, 0), pady=5, sticky=\"nswe\")\n",
    "lbAge = Label(FORM, font=MyFont, text=\"Độ tuổi:\", bg=\"#C7CBD1\")\n",
    "lbAge.grid(row=7, column=0, padx=(10, 0), pady=5, sticky=\"nswe\")\n",
    "lbHypertension = Label(FORM, font=MyFont, text=\"Tăng huyết áp:\", bg=\"#C7CBD1\")\n",
    "lbHypertension.grid(row=8, column=0, padx=(10, 0), pady=5, sticky=\"nswe\")\n",
    "lbHeartDisease = Label(FORM, font=MyFont, text=\"Mắc bệnh tim:\", bg=\"#C7CBD1\")\n",
    "lbHeartDisease.grid(row=9, column=0, padx=(10, 0), pady=5, sticky=\"nswe\")\n",
    "lbAvgGlucoseLevel = Label(FORM, font=MyFont, text=\"Mức đường huyết trung bình:\", bg=\"#C7CBD1\")\n",
    "lbAvgGlucoseLevel.grid(row=10, column=0, padx=(10, 0), pady=5, sticky=\"nswe\")\n",
    "lbBmi = Label(FORM, font=MyFont, text=\"Chỉ số khối cơ thể:\", bg=\"#C7CBD1\")\n",
    "lbBmi.grid(row=11, column=0, padx=(10, 0), pady=5, sticky=\"nswe\")\n",
    "\n",
    "\n",
    "cbbGender = Combobox(FORM, font=MyFont, state=\"readonly\", values=('Female','Male'))\n",
    "cbbGender.grid(row=1, column=1, padx=(0, 10), pady=5, sticky=\"nswe\")\n",
    "cbbMarried = Combobox(FORM, font=MyFont, state=\"readonly\", values=('true','false'))\n",
    "cbbMarried.grid(row=2, column=1, padx=(0, 10), pady=5, sticky=\"nswe\")\n",
    "cbbWorktype = Combobox(FORM, font=MyFont, state=\"readonly\", values=('Private','Self-amployed','Govt-job','Never-worked','children'))\n",
    "cbbWorktype.grid(row=3, column=1, padx=(0, 10), pady=5, sticky=\"nswe\")\n",
    "cbbResidence = Combobox(FORM, font=MyFont, state=\"readonly\", values=('Rural','Urban'))\n",
    "cbbResidence.grid(row=4, column=1, padx=(0, 10), pady=5, sticky=\"nswe\")\n",
    "cbbSmokingStatus = Combobox(FORM, font=MyFont, state=\"readonly\", values=('formerly smoked','never smoked','smokes','Unknown'))\n",
    "cbbSmokingStatus.grid(row=5, column=1, padx=(0, 10), pady=5, sticky=\"nswe\")\n",
    "cbbID = Combobox(FORM, font=MyFont, state=\"normal\")\n",
    "cbbID.grid(row=6, column=1, padx=(0, 10), pady=5, sticky=\"nswe\")\n",
    "cbbAge = Combobox(FORM, font=MyFont, state=\"normal\")\n",
    "cbbAge.grid(row=7, column=1, padx=(0, 10), pady=5, sticky=\"nswe\")\n",
    "cbbHypertension = Combobox(FORM, font=MyFont, state=\"readonly\", values=[0,1])\n",
    "cbbHypertension.grid(row=8, column=1, padx=(0, 10), pady=5, sticky=\"nswe\")\n",
    "cbbHeartDisease = Combobox(FORM, font=MyFont, state=\"readonly\", values=[0,1])\n",
    "cbbHeartDisease.grid(row=9, column=1, padx=(0, 10), pady=5, sticky=\"nswe\")\n",
    "cbbAvgGlucoseLevel = Combobox(FORM, font=MyFont, state=\"normal\")\n",
    "cbbAvgGlucoseLevel.grid(row=10, column=1, padx=(0, 10), pady=5, sticky=\"nswe\")\n",
    "cbbBmi = Combobox(FORM, font=MyFont, state=\"normal\")\n",
    "cbbBmi.grid(row=11, column=1, padx=(0, 10), pady=5, sticky=\"nswe\")\n",
    "\n",
    "\n",
    "groupCART = LabelFrame(FORM, font=MyFont, text=\"Thuật toán CART kết hợp PCA\")\n",
    "groupCART.grid(column=0, row=13, columnspan=2, padx=15, pady=15, sticky=\"nswe\")\n",
    "\n",
    "btnAboutId3 = Button(groupCART, font=MyFont, text=\"Thông tin tỷ lệ dự đoán của thuật toán\", bg=\"#C7CBD1\", command=AboutRateCART)\n",
    "btnAboutId3.grid(column=0, row=0, padx=200, pady=(40, 5), sticky=\"nswe\")\n",
    "\n",
    "btnPredictCART = Button(groupCART, font=MyFont, text=\"Dự đoán với CART\", bg=\"#C7CBD1\", command=PredictWithCART)\n",
    "btnPredictCART.grid(column=0, row=1, padx=200, pady=(40, 5), sticky=\"nswe\")\n",
    "\n",
    "lbCART = Label(groupCART, font=MyFont, text=\"Bị đột quỵ(1 / 0)\")\n",
    "lbCART.grid(row=2, column=0, padx=5, pady=(40, 5), sticky=\"nswe\")\n",
    "\n",
    "lbPredictCART = Label(groupCART, font=MyFont, text=\"---\")\n",
    "lbPredictCART.grid(row=3, column=0, padx=5, pady=(0, 20), sticky=\"nswe\")\n",
    "\n",
    "groupCART.rowconfigure((0, 1), weight=1)\n",
    "groupCART.rowconfigure((2, 3), weight=1)\n",
    "groupCART.columnconfigure(0, weight=1)\n",
    "FORM.rowconfigure((1, 2, 3, 4, 5,6,7,8,9,10,11), weight=1)\n",
    "FORM.rowconfigure(7, weight=2)\n",
    "FORM.columnconfigure((0, 1), weight=1)\n",
    "\n",
    "FORM.mainloop()"
   ]
  }
 ],
 "metadata": {
  "kernelspec": {
   "display_name": "Python 3 (ipykernel)",
   "language": "python",
   "name": "python3"
  },
  "language_info": {
   "codemirror_mode": {
    "name": "ipython",
    "version": 3
   },
   "file_extension": ".py",
   "mimetype": "text/x-python",
   "name": "python",
   "nbconvert_exporter": "python",
   "pygments_lexer": "ipython3",
   "version": "3.11.8"
  }
 },
 "nbformat": 4,
 "nbformat_minor": 5
}
